{
 "cells": [
  {
   "cell_type": "code",
   "execution_count": 27,
   "metadata": {},
   "outputs": [],
   "source": [
    "import re\n",
    "from sklearn.naive_bayes import MultinomialNB\n",
    "from sklearn.feature_extraction.text import CountVectorizer\n",
    "reviews_train=[]\n",
    "for line in open('full_train.txt', encoding=\"utf8\"):\n",
    "    reviews_train.append(line.strip().lower())\n",
    "for i in range(len(reviews_train)):\n",
    "    reviews_train[i] = re.sub(r'<br.?.?>','',reviews_train[i])\n",
    "reviews_test = []\n",
    "for line in open('full_test.txt', encoding=\"utf8\"):\n",
    "    reviews_test.append(line.strip().lower())\n",
    "for i in range(len(reviews_test)):\n",
    "    reviews_test[i] = re.sub(r'<br.?.?>','',reviews_test[i])"
   ]
  },
  {
   "cell_type": "code",
   "execution_count": 28,
   "metadata": {},
   "outputs": [],
   "source": [
    "training_labels = [1 if i < 12500 else 0 for i in range(25000)]\n",
    "test_labels = [1 if i < 12500 else 0 for i in range(25000)]\n",
    "# Defining bow_vectorizer:\n",
    "bow_vectorizer = CountVectorizer()\n",
    "# Defining training_vectors:\n",
    "training_vectors = bow_vectorizer.fit_transform(reviews_train)\n",
    "# Defining test_vectors:\n",
    "test_vectors = bow_vectorizer.transform(reviews_test)"
   ]
  },
  {
   "cell_type": "code",
   "execution_count": 30,
   "metadata": {},
   "outputs": [
    {
     "name": "stdout",
     "output_type": "stream",
     "text": [
      "Accuracy:  81.43599999999999 %\n",
      "I did not like the scene at the fashion show, when Jesse walked on the catwalk, looking at a blue neon triangle in front of her.\n",
      "Probability for review being Negative: 0.7245480209576842\n",
      "Probability for review being Positive: 0.2754519790423152\n",
      "Negative\n"
     ]
    }
   ],
   "source": [
    "spam_classifier = MultinomialNB()\n",
    "def spam_or_not(label):\n",
    "  return \"Positive\" if label else \"Negative\"\n",
    "spam_classifier.fit(training_vectors, training_labels)\n",
    "accuracy = spam_classifier.score(test_vectors, test_labels)\n",
    "print(\"Accuracy: \", accuracy*100, \"%\")\n",
    "sentence = input().strip().lower()\n",
    "input_vector = bow_vectorizer.transform([sentence])\n",
    "print(\"Probability for review being Negative:\",spam_classifier.predict_proba(input_vector)[0][0])\n",
    "print(\"Probability for review being Positive:\",spam_classifier.predict_proba(input_vector)[0][1])\n",
    "predict = spam_classifier.predict(input_vector)\n",
    "print(spam_or_not(predict))"
   ]
  },
  {
   "cell_type": "code",
   "execution_count": null,
   "metadata": {},
   "outputs": [],
   "source": []
  }
 ],
 "metadata": {
  "kernelspec": {
   "display_name": "Python 3",
   "language": "python",
   "name": "python3"
  },
  "language_info": {
   "codemirror_mode": {
    "name": "ipython",
    "version": 3
   },
   "file_extension": ".py",
   "mimetype": "text/x-python",
   "name": "python",
   "nbconvert_exporter": "python",
   "pygments_lexer": "ipython3",
   "version": "3.7.3"
  }
 },
 "nbformat": 4,
 "nbformat_minor": 2
}
